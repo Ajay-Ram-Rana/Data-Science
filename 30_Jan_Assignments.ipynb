{
 "cells": [
  {
   "cell_type": "markdown",
   "metadata": {},
   "source": [
    "# Q1:"
   ]
  },
  {
   "cell_type": "code",
   "execution_count": 7,
   "metadata": {
    "scrolled": true
   },
   "outputs": [
    {
     "name": "stdout",
     "output_type": "stream",
     "text": [
      "Give the % of marks:85\n",
      "Your Grade : B\n"
     ]
    }
   ],
   "source": [
    "x = input(\"Give the % of marks:\")\n",
    "y = float(x)\n",
    "if y>90:\n",
    "    print(\"Your Grade : {}\".format('A'))\n",
    "if y<=90 and y>80:\n",
    "    print(\"Your Grade : {}\".format('B'))\n",
    "if y<=80 and y>=60:\n",
    "    print(\"Your Grade : {}\".format('C'))\n",
    "if y<60:\n",
    "    print(\"Your Grade : {}\".format('D'))\n",
    "    \n",
    "    "
   ]
  },
  {
   "cell_type": "markdown",
   "metadata": {},
   "source": [
    "# Q2:"
   ]
  },
  {
   "cell_type": "code",
   "execution_count": 22,
   "metadata": {
    "scrolled": true
   },
   "outputs": [
    {
     "name": "stdout",
     "output_type": "stream",
     "text": [
      "Give The Cost Price of the Bike :278990.78\n",
      "Your Road Tax1  : 41848.617000000006\n"
     ]
    }
   ],
   "source": [
    "cp = input(\"Give The Cost Price of the Bike :\")\n",
    "n = float(cp)\n",
    "if n>100000:\n",
    "    rt = (15/100)*n\n",
    "    print(\"Your Road Tax1  : {}\".format(rt))\n",
    "    \n",
    "    \n",
    "    \n",
    "if  (50000<n<=100000):\n",
    "    rt = (10/100)*n\n",
    "    print(\"Your Road Tax2 : {}\".format(rt))\n",
    "    \n",
    "    \n",
    "if n<=50000:\n",
    "    rt = (5/100)*n\n",
    "    print(\"Your Road Tax3 : {}\".format(rt))\n",
    "    \n"
   ]
  },
  {
   "cell_type": "markdown",
   "metadata": {},
   "source": [
    "# Q3:"
   ]
  },
  {
   "cell_type": "code",
   "execution_count": 40,
   "metadata": {
    "scrolled": true
   },
   "outputs": [
    {
     "name": "stdout",
     "output_type": "stream",
     "text": [
      "Give The City Name  :Delhi\n",
      "Monument : Red Fort\n"
     ]
    }
   ],
   "source": [
    "city = input(\"Give The City Name  :\")\n",
    "\n",
    "if city=='Delhi':\n",
    "    print(\"Monument : {}\".format('Red Fort'))\n",
    "    \n",
    "if city=='Agra':\n",
    "    print(\"Monument : {}\".format('Taj Mehal'))\n",
    "    \n",
    "\n",
    "if city=='Jaipur' :\n",
    "    print(\"Monument : {}\".format('Jal Mehal'))    \n",
    "\n",
    "\n"
   ]
  },
  {
   "cell_type": "markdown",
   "metadata": {},
   "source": [
    "# Q4:"
   ]
  },
  {
   "cell_type": "code",
   "execution_count": 6,
   "metadata": {
    "scrolled": true
   },
   "outputs": [
    {
     "name": "stdout",
     "output_type": "stream",
     "text": [
      "Give Any positive Number : 235678945\n",
      "count : 1 ,  Quotient : 78559648.33333333\n",
      "count : 2 ,  Quotient : 26186549.444444444\n",
      "count : 3 ,  Quotient : 8728849.814814815\n",
      "count : 4 ,  Quotient : 2909616.604938272\n",
      "count : 5 ,  Quotient : 969872.2016460906\n",
      "count : 6 ,  Quotient : 323290.7338820302\n",
      "count : 7 ,  Quotient : 107763.57796067673\n",
      "count : 8 ,  Quotient : 35921.19265355891\n",
      "count : 9 ,  Quotient : 11973.730884519637\n",
      "count : 10 ,  Quotient : 3991.243628173212\n",
      "count : 11 ,  Quotient : 1330.414542724404\n",
      "count : 12 ,  Quotient : 443.471514241468\n",
      "count : 13 ,  Quotient : 147.82383808048934\n",
      "count : 14 ,  Quotient : 49.274612693496444\n",
      "count : 15 ,  Quotient : 16.424870897832147\n",
      "Finally count : 15 , Quotient : 5.474956965944049\n"
     ]
    }
   ],
   "source": [
    "n = int(input(\"Give Any positive Number : \"))\n",
    "num   = n/3\n",
    "count = 0\n",
    "while num>=10:\n",
    "    count+=1\n",
    "    print(\"count : {} ,  Quotient : {}\".format(count,num))\n",
    "    num = num/3\n",
    "    \n",
    "    \n",
    "print(\"Finally count : {} , Quotient : {}\".format(count,num))    "
   ]
  },
  {
   "cell_type": "markdown",
   "metadata": {},
   "source": [
    "# Q5:"
   ]
  },
  {
   "cell_type": "markdown",
   "metadata": {},
   "source": [
    "# Why and when to use while Loop in python give a detailed discription with example."
   ]
  },
  {
   "cell_type": "markdown",
   "metadata": {},
   "source": [
    "Python while loop is used to run a block code until a certain condition is met. Here, A while loop evaluates the condition. If the condition evaluates to True , the code inside the while loop is executed."
   ]
  },
  {
   "cell_type": "code",
   "execution_count": 7,
   "metadata": {
    "scrolled": true
   },
   "outputs": [
    {
     "name": "stdout",
     "output_type": "stream",
     "text": [
      "1\n",
      "2\n",
      "3\n",
      "4\n",
      "5\n"
     ]
    }
   ],
   "source": [
    "# program to display numbers from 1 to 5\n",
    "\n",
    "# initialize the variable\n",
    "i = 1\n",
    "n = 5\n",
    "\n",
    "# while loop from i = 1 to 5\n",
    "while i <= n:\n",
    "    print(i)\n",
    "    i = i + 1"
   ]
  },
  {
   "cell_type": "markdown",
   "metadata": {},
   "source": [
    "# Q6:"
   ]
  },
  {
   "cell_type": "code",
   "execution_count": 9,
   "metadata": {
    "scrolled": true
   },
   "outputs": [
    {
     "name": "stdout",
     "output_type": "stream",
     "text": [
      "* \n",
      "* * \n",
      "* * * \n",
      "* * * * \n",
      "* * * * * \n"
     ]
    }
   ],
   "source": [
    "i=1\n",
    "while i<=5:\n",
    "    j=1\n",
    "    while j<=i:\n",
    "        print('*',end=\" \")\n",
    "        j=j+1\n",
    "    print(\"\")\n",
    "    i=i+1"
   ]
  },
  {
   "cell_type": "markdown",
   "metadata": {},
   "source": [
    "# Q7:"
   ]
  },
  {
   "cell_type": "code",
   "execution_count": 10,
   "metadata": {
    "scrolled": true
   },
   "outputs": [
    {
     "name": "stdout",
     "output_type": "stream",
     "text": [
      "10\n",
      "9\n",
      "8\n",
      "7\n",
      "6\n",
      "5\n",
      "4\n",
      "3\n",
      "2\n",
      "1\n"
     ]
    }
   ],
   "source": [
    "n = 10\n",
    "while n>=1:\n",
    "    print(n)\n",
    "    n = n-1"
   ]
  },
  {
   "cell_type": "markdown",
   "metadata": {},
   "source": [
    "# Q8:\n"
   ]
  },
  {
   "cell_type": "code",
   "execution_count": 11,
   "metadata": {
    "scrolled": true
   },
   "outputs": [
    {
     "name": "stdout",
     "output_type": "stream",
     "text": [
      "10\n",
      "9\n",
      "8\n",
      "7\n",
      "6\n",
      "5\n",
      "4\n",
      "3\n",
      "2\n",
      "1\n"
     ]
    }
   ],
   "source": [
    "n = 10\n",
    "while n>=1:\n",
    "    print(n)\n",
    "    n = n-1"
   ]
  },
  {
   "cell_type": "markdown",
   "metadata": {},
   "source": [
    "____________________________________________________________________________\n",
    "\n",
    "                            Completed The 30_Jan_Assignments\n",
    "_____________________________________________________________________________                            __"
   ]
  }
 ],
 "metadata": {
  "kernelspec": {
   "display_name": "Python 3",
   "language": "python",
   "name": "python3"
  },
  "language_info": {
   "codemirror_mode": {
    "name": "ipython",
    "version": 3
   },
   "file_extension": ".py",
   "mimetype": "text/x-python",
   "name": "python",
   "nbconvert_exporter": "python",
   "pygments_lexer": "ipython3",
   "version": "3.6.9"
  }
 },
 "nbformat": 4,
 "nbformat_minor": 4
}
