{
 "cells": [
  {
   "cell_type": "markdown",
   "metadata": {},
   "source": [
    "## Q1. \n",
    "### Write a Python code to implement the KNN classifier algorithm on load_iris dataset in sklearn.datasets."
   ]
  },
  {
   "cell_type": "code",
   "execution_count": 1,
   "metadata": {},
   "outputs": [
    {
     "name": "stdout",
     "output_type": "stream",
     "text": [
      "Accuracy: 1.00\n",
      "Classification Report:\n",
      "               precision    recall  f1-score   support\n",
      "\n",
      "      setosa       1.00      1.00      1.00        10\n",
      "  versicolor       1.00      1.00      1.00         9\n",
      "   virginica       1.00      1.00      1.00        11\n",
      "\n",
      "    accuracy                           1.00        30\n",
      "   macro avg       1.00      1.00      1.00        30\n",
      "weighted avg       1.00      1.00      1.00        30\n",
      "\n"
     ]
    }
   ],
   "source": [
    "# Import necessary libraries\n",
    "from sklearn.datasets import load_iris\n",
    "from sklearn.model_selection import train_test_split\n",
    "from sklearn.neighbors import KNeighborsClassifier\n",
    "from sklearn.metrics import accuracy_score, classification_report\n",
    "\n",
    "# Load the Iris dataset\n",
    "iris = load_iris()\n",
    "X = iris.data\n",
    "y = iris.target\n",
    "\n",
    "# Split the dataset into training and testing sets\n",
    "X_train, X_test, y_train, y_test = train_test_split(X, y, test_size=0.2, random_state=42)\n",
    "\n",
    "# Initialize the KNN classifier\n",
    "knn_classifier = KNeighborsClassifier(n_neighbors=3)  # You can adjust the value of n_neighbors\n",
    "\n",
    "# Train the model\n",
    "knn_classifier.fit(X_train, y_train)\n",
    "\n",
    "# Make predictions on the test set\n",
    "y_pred = knn_classifier.predict(X_test)\n",
    "\n",
    "# Evaluate the model performance\n",
    "accuracy = accuracy_score(y_test, y_pred)\n",
    "print(f\"Accuracy: {accuracy:.2f}\")\n",
    "\n",
    "# Display the classification report\n",
    "report = classification_report(y_test, y_pred, target_names=iris.target_names)\n",
    "print(\"Classification Report:\\n\", report)\n"
   ]
  },
  {
   "cell_type": "markdown",
   "metadata": {},
   "source": [
    "## Q2. \n",
    "### Write a Python code to implement the KNN regressor algorithm on load_boston dataset in sklearn.datasets."
   ]
  },
  {
   "cell_type": "code",
   "execution_count": 2,
   "metadata": {},
   "outputs": [
    {
     "name": "stdout",
     "output_type": "stream",
     "text": [
      "Mean Squared Error: 21.66\n",
      "R-squared Score: 0.70\n",
      "\n",
      "Actual vs Predicted Values:\n",
      "Actual   Predicted\n",
      "[[23.6        25.1       ]\n",
      " [32.4        32.76666667]\n",
      " [13.6        14.6       ]\n",
      " [22.8        31.        ]\n",
      " [16.1        17.13333333]\n",
      " [20.         29.3       ]\n",
      " [17.8        17.76666667]\n",
      " [14.         15.96666667]\n",
      " [19.6        19.86666667]\n",
      " [16.8        21.43333333]]\n"
     ]
    }
   ],
   "source": [
    "# Import necessary libraries\n",
    "from sklearn.datasets import load_boston\n",
    "from sklearn.model_selection import train_test_split\n",
    "from sklearn.neighbors import KNeighborsRegressor\n",
    "from sklearn.metrics import mean_squared_error, r2_score\n",
    "import numpy as np\n",
    "\n",
    "# Load the Boston Housing dataset\n",
    "boston = load_boston()\n",
    "X = boston.data\n",
    "y = boston.target\n",
    "\n",
    "# Split the dataset into training and testing sets\n",
    "X_train, X_test, y_train, y_test = train_test_split(X, y, test_size=0.2, random_state=42)\n",
    "\n",
    "# Initialize the KNN regressor\n",
    "knn_regressor = KNeighborsRegressor(n_neighbors=3)  # You can adjust the value of n_neighbors\n",
    "\n",
    "# Train the model\n",
    "knn_regressor.fit(X_train, y_train)\n",
    "\n",
    "# Make predictions on the test set\n",
    "y_pred = knn_regressor.predict(X_test)\n",
    "\n",
    "# Evaluate the model performance\n",
    "mse = mean_squared_error(y_test, y_pred)\n",
    "r2 = r2_score(y_test, y_pred)\n",
    "\n",
    "print(f\"Mean Squared Error: {mse:.2f}\")\n",
    "print(f\"R-squared Score: {r2:.2f}\")\n",
    "\n",
    "# Display a few actual vs predicted values\n",
    "comparison = np.column_stack((y_test, y_pred))\n",
    "print(\"\\nActual vs Predicted Values:\")\n",
    "print(\"Actual   Predicted\")\n",
    "print(comparison[:10])\n"
   ]
  },
  {
   "cell_type": "markdown",
   "metadata": {},
   "source": [
    "## Q3.\n",
    "### Write a Python code snippet to find the optimal value of K for the KNN classifier algorithm using cross-validation on load_iris dataset in sklearn.datasets."
   ]
  },
  {
   "cell_type": "code",
   "execution_count": null,
   "metadata": {},
   "outputs": [],
   "source": [
    "# Import necessary libraries\n",
    "from sklearn.datasets import load_iris\n",
    "from sklearn.model_selection import cross_val_score, GridSearchCV, train_test_split\n",
    "from sklearn.neighbors import KNeighborsClassifier\n",
    "\n",
    "# Load the Iris dataset\n",
    "iris = load_iris()\n",
    "X = iris.data\n",
    "y = iris.target\n",
    "\n",
    "# Split the dataset into training and testing sets\n",
    "X_train, X_test, y_train, y_test = train_test_split(X, y, test_size=0.2, random_state=42)\n",
    "\n",
    "# Define the KNN classifier\n",
    "knn_classifier = KNeighborsClassifier()\n",
    "\n",
    "# Define a range of values for K to search\n",
    "k_values = list(range(1, 21))\n",
    "\n",
    "# Create a parameter grid for grid search\n",
    "param_grid = {'n_neighbors': k_values}\n",
    "\n",
    "# Perform grid search with cross-validation\n",
    "grid_search = GridSearchCV(knn_classifier, param_grid, cv=5, scoring='accuracy')\n",
    "grid_search.fit(X_train, y_train)\n",
    "\n",
    "# Print the best parameter and corresponding accuracy\n",
    "best_k = grid_search.best_params_['n_neighbors']\n",
    "best_accuracy = grid_search.best_score_\n",
    "\n",
    "print(f\"Best K: {best_k}\")\n",
    "print(f\"Best Cross-Validation Accuracy: {best_accuracy:.2f}\")\n",
    "\n",
    "# Evaluate the model on the test set with the best K\n",
    "best_knn_classifier = KNeighborsClassifier(n_neighbors=best_k)\n",
    "best_knn_classifier.fit(X_train, y_train)\n",
    "test_accuracy = best_knn_classifier.score(X_test, y_test)\n",
    "\n",
    "print(f\"Accuracy on Test Set with Best K: {test_accuracy:.2f}\")\n"
   ]
  },
  {
   "cell_type": "markdown",
   "metadata": {},
   "source": [
    "## Q4.\n",
    "### Implement the KNN regressor algorithm with feature scaling on load_boston dataset in sklearn.datasets."
   ]
  },
  {
   "cell_type": "code",
   "execution_count": 4,
   "metadata": {},
   "outputs": [
    {
     "name": "stdout",
     "output_type": "stream",
     "text": [
      "Scaled Mean Squared Error: 19.40\n",
      "Scaled R-squared Score: 0.74\n",
      "\n",
      "Actual vs Predicted Values (Scaled):\n",
      "Actual   Predicted\n",
      "[[23.6        28.2       ]\n",
      " [32.4        33.83333333]\n",
      " [13.6        17.7       ]\n",
      " [22.8        23.7       ]\n",
      " [16.1        17.8       ]\n",
      " [20.         22.9       ]\n",
      " [17.8        19.5       ]\n",
      " [14.         16.4       ]\n",
      " [19.6        21.76666667]\n",
      " [16.8        19.96666667]]\n"
     ]
    }
   ],
   "source": [
    "# Import necessary libraries\n",
    "from sklearn.datasets import load_boston\n",
    "from sklearn.model_selection import train_test_split\n",
    "from sklearn.neighbors import KNeighborsRegressor\n",
    "from sklearn.preprocessing import StandardScaler\n",
    "from sklearn.metrics import mean_squared_error, r2_score\n",
    "import numpy as np\n",
    "\n",
    "# Load the Boston Housing dataset\n",
    "boston = load_boston()\n",
    "X = boston.data\n",
    "y = boston.target\n",
    "\n",
    "# Split the dataset into training and testing sets\n",
    "X_train, X_test, y_train, y_test = train_test_split(X, y, test_size=0.2, random_state=42)\n",
    "\n",
    "# Initialize the StandardScaler for feature scaling\n",
    "scaler = StandardScaler()\n",
    "\n",
    "# Fit the scaler on the training data and transform both training and testing data\n",
    "X_train_scaled = scaler.fit_transform(X_train)\n",
    "X_test_scaled = scaler.transform(X_test)\n",
    "\n",
    "# Initialize the KNN regressor\n",
    "knn_regressor = KNeighborsRegressor(n_neighbors=3)  # You can adjust the value of n_neighbors\n",
    "\n",
    "# Train the model on the scaled training data\n",
    "knn_regressor.fit(X_train_scaled, y_train)\n",
    "\n",
    "# Make predictions on the scaled test set\n",
    "y_pred_scaled = knn_regressor.predict(X_test_scaled)\n",
    "\n",
    "# Evaluate the model performance on the scaled test set\n",
    "mse_scaled = mean_squared_error(y_test, y_pred_scaled)\n",
    "r2_scaled = r2_score(y_test, y_pred_scaled)\n",
    "\n",
    "print(f\"Scaled Mean Squared Error: {mse_scaled:.2f}\")\n",
    "print(f\"Scaled R-squared Score: {r2_scaled:.2f}\")\n",
    "\n",
    "# Display a few actual vs predicted values\n",
    "comparison_scaled = np.column_stack((y_test, y_pred_scaled))\n",
    "print(\"\\nActual vs Predicted Values (Scaled):\")\n",
    "print(\"Actual   Predicted\")\n",
    "print(comparison_scaled[:10])\n"
   ]
  },
  {
   "cell_type": "markdown",
   "metadata": {},
   "source": [
    "## Q5. \n",
    "### Write a Python code snippet to implement the KNN classifier algorithm with weighted voting on load_iris dataset in sklearn.datasets."
   ]
  },
  {
   "cell_type": "code",
   "execution_count": 5,
   "metadata": {},
   "outputs": [
    {
     "name": "stdout",
     "output_type": "stream",
     "text": [
      "Accuracy with Weighted Voting: 1.00\n",
      "Classification Report with Weighted Voting:\n",
      "               precision    recall  f1-score   support\n",
      "\n",
      "      setosa       1.00      1.00      1.00        10\n",
      "  versicolor       1.00      1.00      1.00         9\n",
      "   virginica       1.00      1.00      1.00        11\n",
      "\n",
      "    accuracy                           1.00        30\n",
      "   macro avg       1.00      1.00      1.00        30\n",
      "weighted avg       1.00      1.00      1.00        30\n",
      "\n"
     ]
    }
   ],
   "source": [
    "# Import necessary libraries\n",
    "from sklearn.datasets import load_iris\n",
    "from sklearn.model_selection import train_test_split\n",
    "from sklearn.neighbors import KNeighborsClassifier\n",
    "from sklearn.metrics import accuracy_score, classification_report\n",
    "\n",
    "# Load the Iris dataset\n",
    "iris = load_iris()\n",
    "X = iris.data\n",
    "y = iris.target\n",
    "\n",
    "# Split the dataset into training and testing sets\n",
    "X_train, X_test, y_train, y_test = train_test_split(X, y, test_size=0.2, random_state=42)\n",
    "\n",
    "# Initialize the KNN classifier with weighted voting\n",
    "knn_classifier_weighted = KNeighborsClassifier(n_neighbors=3, weights='distance')  # You can adjust the value of n_neighbors\n",
    "\n",
    "# Train the model\n",
    "knn_classifier_weighted.fit(X_train, y_train)\n",
    "\n",
    "# Make predictions on the test set\n",
    "y_pred_weighted = knn_classifier_weighted.predict(X_test)\n",
    "\n",
    "# Evaluate the model performance\n",
    "accuracy_weighted = accuracy_score(y_test, y_pred_weighted)\n",
    "print(f\"Accuracy with Weighted Voting: {accuracy_weighted:.2f}\")\n",
    "\n",
    "# Display the classification report\n",
    "report_weighted = classification_report(y_test, y_pred_weighted, target_names=iris.target_names)\n",
    "print(\"Classification Report with Weighted Voting:\\n\", report_weighted)\n"
   ]
  },
  {
   "cell_type": "markdown",
   "metadata": {},
   "source": [
    "## Q6. \n",
    "### Implement a function to standardise the features before applying KNN classifier."
   ]
  },
  {
   "cell_type": "code",
   "execution_count": 6,
   "metadata": {},
   "outputs": [
    {
     "name": "stdout",
     "output_type": "stream",
     "text": [
      "Accuracy with Standardization: 1.00\n",
      "Classification Report with Standardization:\n",
      "               precision    recall  f1-score   support\n",
      "\n",
      "      setosa       1.00      1.00      1.00        10\n",
      "  versicolor       1.00      1.00      1.00         9\n",
      "   virginica       1.00      1.00      1.00        11\n",
      "\n",
      "    accuracy                           1.00        30\n",
      "   macro avg       1.00      1.00      1.00        30\n",
      "weighted avg       1.00      1.00      1.00        30\n",
      "\n"
     ]
    }
   ],
   "source": [
    "from sklearn.preprocessing import StandardScaler\n",
    "from sklearn.neighbors import KNeighborsClassifier\n",
    "from sklearn.model_selection import train_test_split\n",
    "from sklearn.metrics import accuracy_score, classification_report\n",
    "from sklearn.datasets import load_iris\n",
    "\n",
    "def knn_classifier_with_standardization(X_train, X_test, y_train, y_test, n_neighbors=3):\n",
    "    # Standardize the features\n",
    "    scaler = StandardScaler()\n",
    "    X_train_standardized = scaler.fit_transform(X_train)\n",
    "    X_test_standardized = scaler.transform(X_test)\n",
    "\n",
    "    # Initialize the KNN classifier\n",
    "    knn_classifier = KNeighborsClassifier(n_neighbors=n_neighbors)\n",
    "\n",
    "    # Train the model on the standardized training set\n",
    "    knn_classifier.fit(X_train_standardized, y_train)\n",
    "\n",
    "    # Make predictions on the standardized test set\n",
    "    y_pred_standardized = knn_classifier.predict(X_test_standardized)\n",
    "\n",
    "    # Evaluate the model performance\n",
    "    accuracy_standardized = accuracy_score(y_test, y_pred_standardized)\n",
    "    print(f\"Accuracy with Standardization: {accuracy_standardized:.2f}\")\n",
    "\n",
    "    # Display the classification report\n",
    "    report_standardized = classification_report(y_test, y_pred_standardized, target_names=iris.target_names)\n",
    "    print(\"Classification Report with Standardization:\\n\", report_standardized)\n",
    "\n",
    "# Example usage on the Iris dataset\n",
    "iris = load_iris()\n",
    "X = iris.data\n",
    "y = iris.target\n",
    "\n",
    "# Split the dataset into training and testing sets\n",
    "X_train, X_test, y_train, y_test = train_test_split(X, y, test_size=0.2, random_state=42)\n",
    "\n",
    "# Apply the function with standardization\n",
    "knn_classifier_with_standardization(X_train, X_test, y_train, y_test, n_neighbors=3)\n"
   ]
  },
  {
   "cell_type": "markdown",
   "metadata": {},
   "source": [
    "## Q7. \n",
    "### Write a Python function to calculate the euclidean distance between two points."
   ]
  },
  {
   "cell_type": "code",
   "execution_count": 7,
   "metadata": {},
   "outputs": [
    {
     "name": "stdout",
     "output_type": "stream",
     "text": [
      "Euclidean Distance: 5.20\n"
     ]
    }
   ],
   "source": [
    "import numpy as np\n",
    "\n",
    "def euclidean_distance(point1, point2):\n",
    "    \"\"\"\n",
    "    Calculate the Euclidean distance between two points.\n",
    "\n",
    "    Parameters:\n",
    "    - point1: A list or array representing the coordinates of the first point.\n",
    "    - point2: A list or array representing the coordinates of the second point.\n",
    "\n",
    "    Returns:\n",
    "    - distance: The Euclidean distance between the two points.\n",
    "    \"\"\"\n",
    "    point1 = np.array(point1)\n",
    "    point2 = np.array(point2)\n",
    "    distance = np.sqrt(np.sum((point2 - point1)**2))\n",
    "    return distance\n",
    "\n",
    "# Example usage:\n",
    "point1 = [1, 2, 3]\n",
    "point2 = [4, 5, 6]\n",
    "\n",
    "distance = euclidean_distance(point1, point2)\n",
    "print(f\"Euclidean Distance: {distance:.2f}\")\n"
   ]
  },
  {
   "cell_type": "markdown",
   "metadata": {},
   "source": [
    "## Q8. \n",
    "### Write a Python function to calculate the manhattan distance between two points."
   ]
  },
  {
   "cell_type": "code",
   "execution_count": 8,
   "metadata": {},
   "outputs": [
    {
     "name": "stdout",
     "output_type": "stream",
     "text": [
      "Manhattan Distance: 9.00\n"
     ]
    }
   ],
   "source": [
    "import numpy as np\n",
    "\n",
    "def manhattan_distance(point1, point2):\n",
    "    \"\"\"\n",
    "    Calculate the Manhattan distance between two points.\n",
    "\n",
    "    Parameters:\n",
    "    - point1: A list or array representing the coordinates of the first point.\n",
    "    - point2: A list or array representing the coordinates of the second point.\n",
    "\n",
    "    Returns:\n",
    "    - distance: The Manhattan distance between the two points.\n",
    "    \"\"\"\n",
    "    point1 = np.array(point1)\n",
    "    point2 = np.array(point2)\n",
    "    distance = np.sum(np.abs(point2 - point1))\n",
    "    return distance\n",
    "\n",
    "# Example usage:\n",
    "point1 = [1, 2, 3]\n",
    "point2 = [4, 5, 6]\n",
    "\n",
    "distance = manhattan_distance(point1, point2)\n",
    "print(f\"Manhattan Distance: {distance:.2f}\")\n"
   ]
  },
  {
   "cell_type": "markdown",
   "metadata": {},
   "source": [
    "## Completed_22nd_April_Assignment:\n",
    "## ________________________________"
   ]
  }
 ],
 "metadata": {
  "kernelspec": {
   "display_name": "Python 3",
   "language": "python",
   "name": "python3"
  },
  "language_info": {
   "codemirror_mode": {
    "name": "ipython",
    "version": 3
   },
   "file_extension": ".py",
   "mimetype": "text/x-python",
   "name": "python",
   "nbconvert_exporter": "python",
   "pygments_lexer": "ipython3",
   "version": "3.6.9"
  }
 },
 "nbformat": 4,
 "nbformat_minor": 4
}
