{
 "cells": [
  {
   "cell_type": "markdown",
   "metadata": {},
   "source": [
    "# Q1.\n",
    "### Write a Python function that takes in two arrays of data and calculates the F-value for a variance ratio test. The function should return the F-value and the corresponding p-value for the test."
   ]
  },
  {
   "cell_type": "markdown",
   "metadata": {},
   "source": [
    "You can calculate the F-value for a variance ratio test using the following Python function. To perform this test, you can use the scipy.stats library, which provides a convenient f_oneway function to compute the F-value and its associated p-value for one-way ANOVA (Analysis of Variance). Here's a function that takes two arrays as input and performs the variance ratio test:"
   ]
  },
  {
   "cell_type": "code",
   "execution_count": 1,
   "metadata": {},
   "outputs": [
    {
     "name": "stdout",
     "output_type": "stream",
     "text": [
      "F-value: 1.1974584555229715\n",
      "p-value: 0.30568025994448456\n"
     ]
    }
   ],
   "source": [
    "import numpy as np\n",
    "from scipy.stats import f_oneway\n",
    "\n",
    "def variance_ratio_test(array1, array2):\n",
    "    # Perform a variance ratio test using one-way ANOVA\n",
    "    f_statistic, p_value = f_oneway(array1, array2)\n",
    "    \n",
    "    return f_statistic, p_value\n",
    "\n",
    "# Example usage:\n",
    "array1 = np.array([3.4, 5.1, 6.2, 4.8, 5.3])\n",
    "array2 = np.array([2.9, 4.7, 3.8, 4.3, 5.6])\n",
    "\n",
    "f_value, p_value = variance_ratio_test(array1, array2)\n",
    "print(\"F-value:\", f_value)\n",
    "print(\"p-value:\", p_value)\n"
   ]
  },
  {
   "cell_type": "markdown",
   "metadata": {},
   "source": [
    "In this example, the variance_ratio_test function takes two arrays, array1 and array2, and uses f_oneway to perform the variance ratio test. It returns the F-value and p-value, which you can then print or use for further analysis."
   ]
  },
  {
   "cell_type": "markdown",
   "metadata": {},
   "source": [
    "# Q2. \n",
    "### Given a significance level of 0.05 and the degrees of freedom for the numerator and denominator of an F-distribution, write a Python function that returns the critical F-value for a two-tailed test."
   ]
  },
  {
   "cell_type": "markdown",
   "metadata": {},
   "source": [
    "To calculate the critical F-value for a two-tailed test with a given significance level (alpha) and degrees of freedom for the numerator and denominator of the F-distribution, you can use the scipy.stats library. Here's a Python function that does this:"
   ]
  },
  {
   "cell_type": "code",
   "execution_count": 2,
   "metadata": {},
   "outputs": [
    {
     "name": "stdout",
     "output_type": "stream",
     "text": [
      "Critical F-value: 4.825621493405406\n"
     ]
    }
   ],
   "source": [
    "from scipy.stats import f\n",
    "\n",
    "def critical_f_value(alpha, dfn, dfd):\n",
    "    # Calculate the critical F-value for a two-tailed test\n",
    "    f_critical = f.ppf(1 - alpha / 2, dfn, dfd)\n",
    "    \n",
    "    return f_critical\n",
    "\n",
    "# Example usage:\n",
    "alpha = 0.05\n",
    "dfn = 3  # Degrees of freedom for the numerator\n",
    "dfd = 10  # Degrees of freedom for the denominator\n",
    "\n",
    "critical_f = critical_f_value(alpha, dfn, dfd)\n",
    "print(\"Critical F-value:\", critical_f)\n"
   ]
  },
  {
   "cell_type": "markdown",
   "metadata": {},
   "source": [
    "In this example, the critical_f_value function takes the significance level (alpha), degrees of freedom for the numerator (dfn), and degrees of freedom for the denominator (dfd) as input. It uses the f.ppf function from scipy.stats to calculate the critical F-value for a two-tailed test and returns the result. You can adjust the values of alpha, dfn, and dfd to fit your specific test requirements."
   ]
  },
  {
   "cell_type": "markdown",
   "metadata": {},
   "source": [
    "# Q3. \n",
    "### Write a Python program that generates random samples from two normal distributions with known variances and uses an F-test to determine if the variances are equal. The program should output the F-value, degrees of freedom, and p-value for the test."
   ]
  },
  {
   "cell_type": "markdown",
   "metadata": {},
   "source": [
    "You can create a Python program to generate random samples from two normal distributions with known variances and perform an F-test to determine if the variances are equal. To do this, you can use the numpy and scipy.stats libraries. Here's a sample program:"
   ]
  },
  {
   "cell_type": "code",
   "execution_count": 3,
   "metadata": {},
   "outputs": [
    {
     "name": "stdout",
     "output_type": "stream",
     "text": [
      "F-value: 2.7614320027825623\n",
      "Degrees of freedom (numerator, denominator): 29 29\n",
      "p-value: 0.007886921016335258\n",
      "Reject the null hypothesis. Variances are not equal.\n"
     ]
    }
   ],
   "source": [
    "import numpy as np\n",
    "from scipy.stats import f\n",
    "\n",
    "def perform_f_test(sample1, sample2, alpha):\n",
    "    # Calculate sample variances and degrees of freedom\n",
    "    var1 = np.var(sample1, ddof=1)  # ddof=1 for unbiased variance estimator\n",
    "    var2 = np.var(sample2, ddof=1)\n",
    "    n1 = len(sample1)\n",
    "    n2 = len(sample2)\n",
    "\n",
    "    # Calculate the F-statistic\n",
    "    f_statistic = var1 / var2 if var1 >= var2 else var2 / var1\n",
    "\n",
    "    # Calculate degrees of freedom\n",
    "    dfn = n1 - 1 if var1 >= var2 else n2 - 1\n",
    "    dfd = n1 - 1 if var1 <= var2 else n2 - 1\n",
    "\n",
    "    # Calculate the p-value\n",
    "    p_value = 2 * (1 - f.cdf(f_statistic, dfn, dfd))\n",
    "\n",
    "    return f_statistic, dfn, dfd, p_value\n",
    "\n",
    "# Generate random samples from normal distributions with known variances\n",
    "np.random.seed(0)\n",
    "sample1 = np.random.normal(0, 1, 30)  # Mean=0, Variance=1, Sample size=30\n",
    "sample2 = np.random.normal(0, 2, 30)  # Mean=0, Variance=4, Sample size=30\n",
    "\n",
    "# Set the significance level (alpha)\n",
    "alpha = 0.05\n",
    "\n",
    "# Perform the F-test\n",
    "f_value, dfn, dfd, p_value = perform_f_test(sample1, sample2, alpha)\n",
    "\n",
    "# Output the results\n",
    "print(\"F-value:\", f_value)\n",
    "print(\"Degrees of freedom (numerator, denominator):\", dfn, dfd)\n",
    "print(\"p-value:\", p_value)\n",
    "\n",
    "# Determine whether to reject the null hypothesis\n",
    "if p_value < alpha:\n",
    "    print(\"Reject the null hypothesis. Variances are not equal.\")\n",
    "else:\n",
    "    print(\"Fail to reject the null hypothesis. Variances are equal.\")\n"
   ]
  },
  {
   "cell_type": "markdown",
   "metadata": {},
   "source": [
    "In this program, we generate two random samples from normal distributions with known variances, and then we perform the F-test to test whether the variances are equal. The F-value, degrees of freedom, and p-value are calculated and displayed, and based on the significance level (alpha), we decide whether to reject the null hypothesis."
   ]
  },
  {
   "cell_type": "markdown",
   "metadata": {},
   "source": [
    "# Q4.\n",
    "### The variances of two populations are known to be 10 and 15. A sample of 12 observations is taken from each population. Conduct an F-test at the 5% significance level to determine if the variances are significantly different."
   ]
  },
  {
   "cell_type": "markdown",
   "metadata": {},
   "source": [
    "To conduct an F-test to determine if the variances of two populations are significantly different, you can follow these steps. Given the variances of the two populations are known (Var1 = 10 and Var2 = 15) and sample sizes (n1 = 12 and n2 = 12), we can set up the null and alternative hypotheses as follows:\n",
    "\n",
    "Null Hypothesis (H0): The variances of both populations are equal (σ1^2 = σ2^2).\n",
    "Alternative Hypothesis (H1): The variances of the populations are significantly different (σ1^2 ≠ σ2^2).\n",
    "You want to test this hypothesis at a 5% significance level. Here's how to perform the F-test in Python:"
   ]
  },
  {
   "cell_type": "code",
   "execution_count": 4,
   "metadata": {},
   "outputs": [
    {
     "name": "stdout",
     "output_type": "stream",
     "text": [
      "Fail to reject the null hypothesis. Variances are not significantly different.\n",
      "F-value: 0.6666666666666666\n",
      "Degrees of freedom (numerator, denominator): 11 11\n",
      "p-value: 0.5123897987357996\n"
     ]
    }
   ],
   "source": [
    "import scipy.stats as stats\n",
    "\n",
    "# Given variances\n",
    "variance1 = 10\n",
    "variance2 = 15\n",
    "\n",
    "# Sample sizes\n",
    "n1 = 12\n",
    "n2 = 12\n",
    "\n",
    "# Calculate the F-statistic\n",
    "f_statistic = variance1 / variance2  # Since variances are known\n",
    "\n",
    "# Degrees of freedom\n",
    "dfn = n1 - 1\n",
    "dfd = n2 - 1\n",
    "\n",
    "# Calculate the p-value for a two-tailed test\n",
    "p_value = 2 * min(stats.f.cdf(f_statistic, dfn, dfd), 1 - stats.f.cdf(f_statistic, dfn, dfd))\n",
    "\n",
    "# Set the significance level\n",
    "alpha = 0.05\n",
    "\n",
    "# Determine whether to reject the null hypothesis\n",
    "if p_value < alpha:\n",
    "    print(\"Reject the null hypothesis. Variances are significantly different.\")\n",
    "else:\n",
    "    print(\"Fail to reject the null hypothesis. Variances are not significantly different.\")\n",
    "\n",
    "# Output the results\n",
    "print(\"F-value:\", f_statistic)\n",
    "print(\"Degrees of freedom (numerator, denominator):\", dfn, dfd)\n",
    "print(\"p-value:\", p_value)\n"
   ]
  },
  {
   "cell_type": "markdown",
   "metadata": {},
   "source": [
    "In this program, we calculate the F-statistic using the given variances and sample sizes. Then, we calculate the degrees of freedom and the p-value for a two-tailed F-test. Finally, we compare the p-value to the significance level to make a decision about whether to reject the null hypothesis. In this case, if the p-value is less than 0.05, you would reject the null hypothesis and conclude that the variances are significantly different."
   ]
  },
  {
   "cell_type": "markdown",
   "metadata": {},
   "source": [
    "# Q5. \n",
    "### A manufacturer claims that the variance of the diameter of a certain product is 0.005. A sample of 25 products is taken, and the sample variance is found to be 0.006. Conduct an F-test at the 1% significance level to determine if the claim is justified."
   ]
  },
  {
   "cell_type": "markdown",
   "metadata": {},
   "source": [
    "To conduct an F-test to determine if the manufacturer's claim about the variance of the product's diameter is justified, you can follow these steps. Given the manufacturer's claim of a population variance (σ^2) of 0.005 and a sample variance (s^2) of 0.006 from a sample of 25 products, we can set up the null and alternative hypotheses as follows:\n",
    "\n",
    "Null Hypothesis (H0): The population variance is equal to the claimed value (σ^2 = 0.005).\n",
    "Alternative Hypothesis (H1): The population variance is not equal to the claimed value (σ^2 ≠ 0.005).\n",
    "You want to test this hypothesis at a 1% significance level. Here's how to perform the F-test in Python:"
   ]
  },
  {
   "cell_type": "code",
   "execution_count": 5,
   "metadata": {},
   "outputs": [
    {
     "name": "stdout",
     "output_type": "stream",
     "text": [
      "Fail to reject the null hypothesis. The manufacturer's claim is justified.\n",
      "F-value: 1.2\n",
      "Degrees of freedom (numerator, denominator): 24 1\n",
      "p-value: 0.7407800760081285\n"
     ]
    }
   ],
   "source": [
    "import scipy.stats as stats\n",
    "\n",
    "# Given values\n",
    "claimed_variance = 0.005\n",
    "sample_variance = 0.006\n",
    "sample_size = 25\n",
    "\n",
    "# Degrees of freedom for the F-test\n",
    "dfn = sample_size - 1\n",
    "dfd = 1  # Degrees of freedom for the claimed variance\n",
    "\n",
    "# Calculate the F-statistic\n",
    "f_statistic = (sample_variance / claimed_variance)\n",
    "\n",
    "# Calculate the p-value for a two-tailed test\n",
    "p_value = 2 * min(stats.f.cdf(f_statistic, dfn, dfd), 1 - stats.f.cdf(f_statistic, dfn, dfd))\n",
    "\n",
    "# Set the significance level\n",
    "alpha = 0.01  # 1% significance level\n",
    "\n",
    "# Determine whether to reject the null hypothesis\n",
    "if p_value < alpha:\n",
    "    print(\"Reject the null hypothesis. The manufacturer's claim is not justified.\")\n",
    "else:\n",
    "    print(\"Fail to reject the null hypothesis. The manufacturer's claim is justified.\")\n",
    "\n",
    "# Output the results\n",
    "print(\"F-value:\", f_statistic)\n",
    "print(\"Degrees of freedom (numerator, denominator):\", dfn, dfd)\n",
    "print(\"p-value:\", p_value)\n"
   ]
  },
  {
   "cell_type": "markdown",
   "metadata": {},
   "source": [
    "In this program, we calculate the F-statistic using the sample and claimed variances and the degrees of freedom. Then, we calculate the p-value for a two-tailed F-test. Finally, we compare the p-value to the 1% significance level to make a decision about whether to reject the null hypothesis. In this case, if the p-value is less than 0.01, you would reject the null hypothesis and conclude that the manufacturer's claim is not justified."
   ]
  },
  {
   "cell_type": "markdown",
   "metadata": {},
   "source": [
    "# Q6. \n",
    "#### Write a Python function that takes in the degrees of freedom for the numerator and denominator of an F-distribution and calculates the mean and variance of the distribution. The function should return the mean and variance as a tuple."
   ]
  },
  {
   "cell_type": "markdown",
   "metadata": {},
   "source": [
    "To calculate the mean and variance of an F-distribution given the degrees of freedom for the numerator (dfn) and denominator (dfd), you can use the following Python function. The mean and variance of the F-distribution can be calculated using the formulas:\n",
    "\n",
    "Mean (μ) = dfd / (dfd - 2) for dfd > 2\n",
    "Variance (σ^2) = (2 * dfd^2 * (dfn + dfd - 2)) / (dfn * (dfd - 2)^2 * (dfd - 4)) for dfd > 4\n",
    "\n",
    "Here's the Python function:"
   ]
  },
  {
   "cell_type": "code",
   "execution_count": 6,
   "metadata": {},
   "outputs": [
    {
     "name": "stdout",
     "output_type": "stream",
     "text": [
      "Mean: 1.3333333333333333\n",
      "Variance: 1.9555555555555555\n"
     ]
    }
   ],
   "source": [
    "def calculate_f_distribution_mean_and_variance(dfn, dfd):\n",
    "    if dfd <= 2:\n",
    "        raise ValueError(\"Degrees of freedom for the denominator (dfd) must be greater than 2.\")\n",
    "    \n",
    "    mean = dfd / (dfd - 2) if dfd > 2 else None\n",
    "    \n",
    "    if dfd <= 4:\n",
    "        variance = None\n",
    "    else:\n",
    "        variance = (2 * dfd ** 2 * (dfn + dfd - 2)) / (dfn * (dfd - 2) ** 2 * (dfd - 4))\n",
    "    \n",
    "    return mean, variance\n",
    "\n",
    "# Example usage:\n",
    "dfn = 5  # Degrees of freedom for the numerator\n",
    "dfd = 8  # Degrees of freedom for the denominator\n",
    "\n",
    "mean, variance = calculate_f_distribution_mean_and_variance(dfn, dfd)\n",
    "print(\"Mean:\", mean)\n",
    "print(\"Variance:\", variance)\n"
   ]
  },
  {
   "cell_type": "markdown",
   "metadata": {},
   "source": [
    "This function calculates the mean and variance of the F-distribution based on the given degrees of freedom for the numerator (dfn) and denominator (dfd). It checks for valid degrees of freedom, and if the conditions are met, it returns the mean and variance as a tuple."
   ]
  },
  {
   "cell_type": "markdown",
   "metadata": {},
   "source": [
    "# Q7. \n",
    "#### A random sample of 10 measurements is taken from a normal population with unknown variance. The sample variance is found to be 25. Another random sample of 15 measurements is taken from another normal population with unknown variance, and the sample variance is found to be 20. Conduct an F-test at the 10% significance level to determine if the variances are significantly different."
   ]
  },
  {
   "cell_type": "markdown",
   "metadata": {},
   "source": [
    "To conduct an F-test to determine if the variances of two populations are significantly different, you can follow these steps. Given two sample variances (s1^2 = 25 from a sample of size n1 = 10 and s2^2 = 20 from a sample of size n2 = 15) and a 10% significance level, we can set up the null and alternative hypotheses as follows:\n",
    "\n",
    "Null Hypothesis (H0): The population variances are equal (σ1^2 = σ2^2).\n",
    "Alternative Hypothesis (H1): The population variances are not equal (σ1^2 ≠ σ2^2).\n",
    "Here's how to perform the F-test in Python:"
   ]
  },
  {
   "cell_type": "code",
   "execution_count": 7,
   "metadata": {},
   "outputs": [
    {
     "name": "stdout",
     "output_type": "stream",
     "text": [
      "Fail to reject the null hypothesis. The variances are not significantly different.\n",
      "F-value: 1.25\n",
      "Degrees of freedom (numerator, denominator): 9 14\n",
      "p-value: 0.6832194382585954\n"
     ]
    }
   ],
   "source": [
    "import scipy.stats as stats\n",
    "\n",
    "# Sample variances and sample sizes\n",
    "sample_variance1 = 25\n",
    "sample_size1 = 10\n",
    "sample_variance2 = 20\n",
    "sample_size2 = 15\n",
    "\n",
    "# Degrees of freedom\n",
    "dfn = sample_size1 - 1\n",
    "dfd = sample_size2 - 1\n",
    "\n",
    "# Calculate the F-statistic\n",
    "f_statistic = sample_variance1 / sample_variance2  # Since variances are from samples\n",
    "\n",
    "# Calculate the p-value for a two-tailed test\n",
    "p_value = 2 * min(stats.f.cdf(f_statistic, dfn, dfd), 1 - stats.f.cdf(f_statistic, dfn, dfd))\n",
    "\n",
    "# Set the significance level\n",
    "alpha = 0.10  # 10% significance level\n",
    "\n",
    "# Determine whether to reject the null hypothesis\n",
    "if p_value < alpha:\n",
    "    print(\"Reject the null hypothesis. The variances are significantly different.\")\n",
    "else:\n",
    "    print(\"Fail to reject the null hypothesis. The variances are not significantly different.\")\n",
    "\n",
    "# Output the results\n",
    "print(\"F-value:\", f_statistic)\n",
    "print(\"Degrees of freedom (numerator, denominator):\", dfn, dfd)\n",
    "print(\"p-value:\", p_value)\n"
   ]
  },
  {
   "cell_type": "markdown",
   "metadata": {},
   "source": [
    "In this program, we calculate the F-statistic using the sample variances and degrees of freedom. Then, we calculate the p-value for a two-tailed F-test. Finally, we compare the p-value to the 10% significance level to make a decision about whether to reject the null hypothesis. In this case, if the p-value is less than 0.10, you would reject the null hypothesis and conclude that the variances are significantly different."
   ]
  },
  {
   "cell_type": "markdown",
   "metadata": {},
   "source": [
    "# Q8. \n",
    "#### The following data represent the waiting times in minutes at two different restaurants on a Saturday night: Restaurant A: 24, 25, 28, 23, 22, 20, 27; Restaurant B: 31, 33, 35, 30, 32, 36. Conduct an F-test at the 5% significance level to determine if the variances are significantly different."
   ]
  },
  {
   "cell_type": "markdown",
   "metadata": {},
   "source": [
    "To conduct an F-test to determine if the variances of the waiting times at two different restaurants (Restaurant A and Restaurant B) are significantly different, you can follow these steps. Given the data and a 5% significance level, we can set up the null and alternative hypotheses as follows:\n",
    "\n",
    "Null Hypothesis (H0): The variances of waiting times at both restaurants are equal (σ1^2 = σ2^2).\n",
    "Alternative Hypothesis (H1): The variances of waiting times at both restaurants are not equal (σ1^2 ≠ σ2^2).\n",
    "Here's how to perform the F-test in Python:"
   ]
  },
  {
   "cell_type": "code",
   "execution_count": 8,
   "metadata": {},
   "outputs": [
    {
     "name": "stdout",
     "output_type": "stream",
     "text": [
      "Fail to reject the null hypothesis. The variances are not significantly different.\n",
      "F-value: 1.4551907719609583\n",
      "Degrees of freedom (numerator, denominator): 6 5\n",
      "p-value: 0.6974815747937484\n"
     ]
    }
   ],
   "source": [
    "import scipy.stats as stats\n",
    "import numpy as np\n",
    "\n",
    "# Waiting times data for Restaurant A and Restaurant B\n",
    "data_A = np.array([24, 25, 28, 23, 22, 20, 27])\n",
    "data_B = np.array([31, 33, 35, 30, 32, 36])\n",
    "\n",
    "# Sample variances and sample sizes\n",
    "variance_A = np.var(data_A, ddof=1)  # Sample variance for Restaurant A\n",
    "n_A = len(data_A)\n",
    "variance_B = np.var(data_B, ddof=1)  # Sample variance for Restaurant B\n",
    "n_B = len(data_B)\n",
    "\n",
    "# Degrees of freedom\n",
    "dfn = n_A - 1\n",
    "dfd = n_B - 1\n",
    "\n",
    "# Calculate the F-statistic\n",
    "f_statistic = variance_A / variance_B  # Since variances are from samples\n",
    "\n",
    "# Calculate the p-value for a two-tailed test\n",
    "p_value = 2 * min(stats.f.cdf(f_statistic, dfn, dfd), 1 - stats.f.cdf(f_statistic, dfn, dfd))\n",
    "\n",
    "# Set the significance level\n",
    "alpha = 0.05  # 5% significance level\n",
    "\n",
    "# Determine whether to reject the null hypothesis\n",
    "if p_value < alpha:\n",
    "    print(\"Reject the null hypothesis. The variances are significantly different.\")\n",
    "else:\n",
    "    print(\"Fail to reject the null hypothesis. The variances are not significantly different.\")\n",
    "\n",
    "# Output the results\n",
    "print(\"F-value:\", f_statistic)\n",
    "print(\"Degrees of freedom (numerator, denominator):\", dfn, dfd)\n",
    "print(\"p-value:\", p_value)\n"
   ]
  },
  {
   "cell_type": "markdown",
   "metadata": {},
   "source": [
    "In this program, we calculate the F-statistic using the sample variances and degrees of freedom. Then, we calculate the p-value for a two-tailed F-test. Finally, we compare the p-value to the 5% significance level to make a decision about whether to reject the null hypothesis. In this case, if the p-value is less than 0.05, you would reject the null hypothesis and conclude that the variances of waiting times at the two restaurants are significantly different."
   ]
  },
  {
   "cell_type": "markdown",
   "metadata": {},
   "source": [
    "# Q9. \n",
    "#### The following data represent the test scores of two groups of students: Group A: 80, 85, 90, 92, 87, 83;Group B: 75, 78, 82, 79, 81, 84. Conduct an F-test at the 1% significance level to determine if the variances are significantly different."
   ]
  },
  {
   "cell_type": "markdown",
   "metadata": {},
   "source": [
    "To conduct an F-test to determine if the variances of the test scores in two different groups (Group A and Group B) are significantly different, you can follow these steps. Given the data and a 1% significance level, we can set up the null and alternative hypotheses as follows:\n",
    "\n",
    "Null Hypothesis (H0): The variances of test scores in both groups are equal (σ1^2 = σ2^2).\n",
    "Alternative Hypothesis (H1): The variances of test scores in both groups are not equal (σ1^2 ≠ σ2^2).\n",
    "Here's how to perform the F-test in Python:\n",
    "\n",
    "python\n"
   ]
  },
  {
   "cell_type": "code",
   "execution_count": 9,
   "metadata": {},
   "outputs": [
    {
     "name": "stdout",
     "output_type": "stream",
     "text": [
      "Fail to reject the null hypothesis. The variances are not significantly different.\n",
      "F-value: 1.9442622950819677\n",
      "Degrees of freedom (numerator, denominator): 5 5\n",
      "p-value: 0.4831043549070688\n"
     ]
    }
   ],
   "source": [
    "import scipy.stats as stats\n",
    "import numpy as np\n",
    "\n",
    "# Test scores data for Group A and Group B\n",
    "data_A = np.array([80, 85, 90, 92, 87, 83])\n",
    "data_B = np.array([75, 78, 82, 79, 81, 84])\n",
    "\n",
    "# Sample variances and sample sizes\n",
    "variance_A = np.var(data_A, ddof=1)  # Sample variance for Group A\n",
    "n_A = len(data_A)\n",
    "variance_B = np.var(data_B, ddof=1)  # Sample variance for Group B\n",
    "n_B = len(data_B)\n",
    "\n",
    "# Degrees of freedom\n",
    "dfn = n_A - 1\n",
    "dfd = n_B - 1\n",
    "\n",
    "# Calculate the F-statistic\n",
    "f_statistic = variance_A / variance_B  # Since variances are from samples\n",
    "\n",
    "# Calculate the p-value for a two-tailed test\n",
    "p_value = 2 * min(stats.f.cdf(f_statistic, dfn, dfd), 1 - stats.f.cdf(f_statistic, dfn, dfd))\n",
    "\n",
    "# Set the significance level\n",
    "alpha = 0.01  # 1% significance level\n",
    "\n",
    "# Determine whether to reject the null hypothesis\n",
    "if p_value < alpha:\n",
    "    print(\"Reject the null hypothesis. The variances are significantly different.\")\n",
    "else:\n",
    "    print(\"Fail to reject the null hypothesis. The variances are not significantly different.\")\n",
    "\n",
    "# Output the results\n",
    "print(\"F-value:\", f_statistic)\n",
    "print(\"Degrees of freedom (numerator, denominator):\", dfn, dfd)\n",
    "print(\"p-value:\", p_value)\n"
   ]
  },
  {
   "cell_type": "markdown",
   "metadata": {},
   "source": [
    "In this program, we calculate the F-statistic using the sample variances and degrees of freedom. Then, we calculate the p-value for a two-tailed F-test. Finally, we compare the p-value to the 1% significance level to make a decision about whether to reject the null hypothesis. In this case, if the p-value is less than 0.01, you would reject the null hypothesis and conclude that the variances of test scores in the two groups are significantly different."
   ]
  },
  {
   "cell_type": "markdown",
   "metadata": {},
   "source": [
    "## Completed 14th_March_Assignment\n",
    "## _________________________________________________ "
   ]
  }
 ],
 "metadata": {
  "kernelspec": {
   "display_name": "Python 3",
   "language": "python",
   "name": "python3"
  },
  "language_info": {
   "codemirror_mode": {
    "name": "ipython",
    "version": 3
   },
   "file_extension": ".py",
   "mimetype": "text/x-python",
   "name": "python",
   "nbconvert_exporter": "python",
   "pygments_lexer": "ipython3",
   "version": "3.6.9"
  }
 },
 "nbformat": 4,
 "nbformat_minor": 4
}
