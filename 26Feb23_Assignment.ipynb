{
 "cells": [
  {
   "cell_type": "markdown",
   "metadata": {},
   "source": [
    "# Consider the below code to answer further questions: \n",
    "      import numpy as np\n",
    "      list_ = [ ‘1’ , ’2’ , ‘3’ , ‘4’ , ‘5’ ]\n",
    "      array_list = np.array(object = list_)"
   ]
  },
  {
   "cell_type": "markdown",
   "metadata": {},
   "source": [
    "# Q1. \n",
    "**Is there any difference in the data type of variables list_ and array_list? If there is then write a code\n",
    "to print the data types of both the variables.**"
   ]
  },
  {
   "cell_type": "markdown",
   "metadata": {},
   "source": [
    "## Difference Between List and Array in Python\n",
    "## List\n",
    "(1): Can consist of elements belonging to different data types\n",
    "\n",
    "(2): No need to explicitly import a module for the declaration\n",
    "\n",
    "(3): Cannot directly handle arithmetic operations\n",
    "\n",
    "(4): Preferred for a shorter sequence of data items\n",
    "\n",
    "(5): Consume larger memory for easy addition of elements\n",
    "\n",
    "## Array\n",
    "\n",
    "(1): Only consists of elements belonging to the same data type\n",
    "\n",
    "(2): Need to explicitly import the array module for declaration\n",
    "\n",
    "(3): Can directly handle arithmetic operations\n",
    "\n",
    "(4): Preferred for a longer sequence of data items\n",
    "\n",
    "(5): Comparatively more compact in memory size\n",
    "\n",
    "\n",
    "\n"
   ]
  },
  {
   "cell_type": "code",
   "execution_count": 1,
   "metadata": {
    "scrolled": true
   },
   "outputs": [
    {
     "name": "stdout",
     "output_type": "stream",
     "text": [
      "<class 'list'>\n",
      "[1, 'Yash', ['a', 'e']]\n"
     ]
    }
   ],
   "source": [
    "# creating a list containing elements\n",
    "# belonging to different data types\n",
    "sample_list = [1, \"Yash\", ['a', 'e']]\n",
    "print(type(sample_list))\n",
    "print(sample_list)\n"
   ]
  },
  {
   "cell_type": "code",
   "execution_count": 2,
   "metadata": {},
   "outputs": [
    {
     "name": "stdout",
     "output_type": "stream",
     "text": [
      "<class 'array.array'>\n",
      "1 2 3 "
     ]
    }
   ],
   "source": [
    "# importing \"array\" for array creations\n",
    "import array as arr\n",
    "\n",
    "# creating an array with integer type\n",
    "a = arr.array('i', [1, 2, 3])\n",
    "print(type(a))\n",
    "for i in a:\n",
    "\tprint(i, end=\" \")\n"
   ]
  },
  {
   "cell_type": "markdown",
   "metadata": {},
   "source": [
    "# Q2. \n",
    "## Write a code to print the data type of each and every element of both the variables list_ and  arra_list."
   ]
  },
  {
   "cell_type": "code",
   "execution_count": 5,
   "metadata": {},
   "outputs": [
    {
     "name": "stdout",
     "output_type": "stream",
     "text": [
      "Given List :  <class 'list'>\n",
      "List: [22, '22', 'Ajay', (1, 2, 3)]\n",
      "1th item type of the List : <class 'int'>\n",
      "2th item type of the List : <class 'str'>\n",
      "3th item type of the List : <class 'str'>\n",
      "4th item type of the List : <class 'tuple'>\n"
     ]
    }
   ],
   "source": [
    "lst = [22,'22','Ajay',(1,2,3)]\n",
    "print(\"Given List : \", type(lst))\n",
    "print(\"List:\",lst )\n",
    "j = 1\n",
    "for i in lst:\n",
    "    print(f'{j}th item type of the List : {type(i)}')\n",
    "    j = j+1"
   ]
  },
  {
   "cell_type": "code",
   "execution_count": 12,
   "metadata": {},
   "outputs": [
    {
     "name": "stdout",
     "output_type": "stream",
     "text": [
      "Given Array:  array('d', [1.0, 2.0, 3.0, 4.0])\n",
      "Type of Array:  <class 'array.array'>\n",
      "1th item type  of the Array: <class 'float'>\n",
      "2th item type  of the Array: <class 'float'>\n",
      "3th item type  of the Array: <class 'float'>\n",
      "4th item type  of the Array: <class 'float'>\n"
     ]
    }
   ],
   "source": [
    "import array as arr\n",
    "x  = arr.array('d',[1,2,3,4])\n",
    "print(\"Given Array: \",x)\n",
    "print(\"Type of Array: \",type(x))\n",
    "j = 1\n",
    "for i in x:\n",
    "    print(f'{j}th item type  of the Array: {type(i)}')\n",
    "    j+=1\n",
    "    "
   ]
  },
  {
   "cell_type": "markdown",
   "metadata": {},
   "source": [
    "# Q3. \n",
    "## Considering the following changes in the variable, array_list:\n",
    "     array_list = np.array(object = list_, dtype = int)\n",
    "\n",
    "Will there be any difference in the data type of the elements present in both the variables, list_ and\n",
    "arra_list? If so then print the data types of each and every element present in both the variables, list_\n",
    "and arra_list. \n",
    "\n"
   ]
  },
  {
   "cell_type": "markdown",
   "metadata": {},
   "source": [
    "### Consider the below code to answer further questions:\n",
    "     import numpy as np\n",
    "     num_list = [ [ 1 , 2 , 3 ] , [ 4 , 5 , 6 ] ]\n",
    "     num_array = np.array(object = num_list)\n",
    "     \n",
    "     \n",
    "# Q4.\n",
    "## Write a code to find the following characteristics of variable, num_array:\n",
    "     (i) shape\n",
    "    (ii) size     "
   ]
  },
  {
   "cell_type": "code",
   "execution_count": 24,
   "metadata": {},
   "outputs": [
    {
     "name": "stdout",
     "output_type": "stream",
     "text": [
      "<class 'numpy.ndarray'>\n",
      "<class 'list'>\n",
      "Length of the List :  2\n",
      "Size of the numpy Array :  6\n",
      "Shape of the numpy Array :  (2, 3)\n"
     ]
    }
   ],
   "source": [
    "import numpy as np\n",
    "num_list = [ [ 1 , 2 , 3 ] , [ 4 , 5 , 6 ] ]\n",
    "num_array = np.array(object = num_list)\n",
    "print(type(num_array))\n",
    "print(type(num_list))\n",
    "print(\"Length of the List : \",len(num_list))\n",
    "print(\"Size of the numpy Array : \",np.size(num_array))\n",
    "print(\"Shape of the numpy Array : \",num_array.shape)\n"
   ]
  },
  {
   "cell_type": "markdown",
   "metadata": {},
   "source": [
    "# Q5. \n",
    "## Write a code to create numpy array of 3*3 matrix containing zeros only, using a numpy array creation function.\n",
    "[Hint: The size of the array will be 9 and the shape will be (3,3).]"
   ]
  },
  {
   "cell_type": "code",
   "execution_count": 26,
   "metadata": {
    "scrolled": true
   },
   "outputs": [
    {
     "name": "stdout",
     "output_type": "stream",
     "text": [
      "Matrix a : \n",
      " [0 0 0]\n",
      "\n",
      "Matrix b : \n",
      " [[0 0 0]\n",
      " [0 0 0]\n",
      " [0 0 0]]\n"
     ]
    }
   ],
   "source": [
    "\n",
    "import numpy as np\n",
    "\n",
    "a = np.zeros(3, dtype = int)\n",
    "print(\"Matrix a : \\n\", a)\n",
    "\n",
    "b = np.zeros([3, 3], dtype = int)\n",
    "print(\"\\nMatrix b : \\n\", b)\n"
   ]
  },
  {
   "cell_type": "markdown",
   "metadata": {},
   "source": [
    "# Q6. \n",
    "### Create an identity matrix of shape (5,5) using numpy functions?\n",
    "[Hint: An identity matrix is a matrix containing 1 diagonally and other elements will be 0.]"
   ]
  },
  {
   "cell_type": "code",
   "execution_count": 27,
   "metadata": {},
   "outputs": [
    {
     "name": "stdout",
     "output_type": "stream",
     "text": [
      "[[1 0 0 0 0]\n",
      " [0 1 0 0 0]\n",
      " [0 0 1 0 0]\n",
      " [0 0 0 1 0]\n",
      " [0 0 0 0 1]]\n"
     ]
    }
   ],
   "source": [
    "import numpy as np\n",
    "x  = np.diag([1,1,1,1,1])\n",
    "print(x)"
   ]
  },
  {
   "cell_type": "markdown",
   "metadata": {},
   "source": [
    "#### Completed 26Feb23_Assignment\n",
    "# ___________________________________________________"
   ]
  }
 ],
 "metadata": {
  "kernelspec": {
   "display_name": "Python 3",
   "language": "python",
   "name": "python3"
  },
  "language_info": {
   "codemirror_mode": {
    "name": "ipython",
    "version": 3
   },
   "file_extension": ".py",
   "mimetype": "text/x-python",
   "name": "python",
   "nbconvert_exporter": "python",
   "pygments_lexer": "ipython3",
   "version": "3.6.9"
  }
 },
 "nbformat": 4,
 "nbformat_minor": 4
}
