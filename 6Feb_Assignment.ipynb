{
 "cells": [
  {
   "cell_type": "markdown",
   "id": "ffbd366d-efe8-4275-9289-d9e3361a6d33",
   "metadata": {},
   "source": [
    "# Python Task-1"
   ]
  },
  {
   "cell_type": "markdown",
   "id": "ad8c85b1-53a6-4d34-ad28-d55ce2c9bbbe",
   "metadata": {},
   "source": [
    "## Q1. \n",
    "### Create a function which will take a list as an argument and return the product of all the numbers after creating a flat list.\n",
    "\n",
    "Use the below-given list as an argument for your function.\n",
    "\n",
    "list1 = [1,2,3,4, [44,55,66, True], False, (34,56,78,89,34), {1,2,3,3,2,1}, {1:34, \"key2\": [55, 67, 78, 89], 4: (45,\n",
    "22, 61, 34)}, [56, 'data science'], 'Machine Learning']\n",
    "\n",
    "Note: you must extract numeric keys and values of the dictionary also."
   ]
  },
  {
   "cell_type": "code",
   "execution_count": 33,
   "id": "4ffd8815-eb65-4b72-b4f7-9d04039faff5",
   "metadata": {},
   "outputs": [
    {
     "name": "stdout",
     "output_type": "stream",
     "text": [
      "Flat List  : \n",
      " [1, 2, 3, 4, 4, 5, 6, True, False, 3, 5, 7, 8, 3, 1, 2, 3, 4, 5, 7, 8, 9, 5, 2, 1, 3, 5, 'data science', 'Machine Learning']\n",
      "Product of all Numbers of The above Flat list  ===>  0 \n"
     ]
    }
   ],
   "source": [
    "def prodflt(input_list):\n",
    "    product = 1 \n",
    "    for item in input_list:\n",
    "        if isinstance(item, (int, float)):\n",
    "            product *= item\n",
    "\n",
    "    return product\n",
    "    \n",
    "    \n",
    "    \n",
    "    \n",
    "def flatlist(list1):\n",
    "    flt = []\n",
    "    for element in list1:\n",
    "        if type(element) is list or type(element) is tuple or type(element) is set:\n",
    "            for x in element:\n",
    "                flt.append(x)\n",
    "        elif type(element) is dict:\n",
    "            for i in element.values():\n",
    "                if type(i) is list:\n",
    "                    for j in i:\n",
    "                        flt.append(j)\n",
    "                elif type(i) is tuple:\n",
    "                    for j in i:\n",
    "                        flt.append(j)\n",
    "                \n",
    "                else:\n",
    "                    flt.append(i)\n",
    "        else:\n",
    "            flt.append(element)\n",
    "    return flt\n",
    "\n",
    "\n",
    "list1 = [1,2,3,4, [4,5,6, True], False, (3,5,7,8,3), {1,2,3,3,2,1}, {1:4, \"key2\": [5, 7, 8, 9], 4: (5, 2, 1, 3)}, [5, 'data science'], 'Machine Learning']\n",
    "a  = flatlist(list1)\n",
    "print(\"Flat List  : \\n {}\".format(a))\n",
    "print(\"Product of all Numbers of The above Flat list  ===>  {} \".format(prodflt(a)))\n",
    "\n",
    "            \n",
    "            "
   ]
  },
  {
   "cell_type": "code",
   "execution_count": 34,
   "id": "66167c98-7a64-4dfa-8114-75b97c37bd5e",
   "metadata": {},
   "outputs": [
    {
     "name": "stdout",
     "output_type": "stream",
     "text": [
      "Product of numerical values in list1: 0\n"
     ]
    }
   ],
   "source": [
    "def product_of_numerical_values(lst):\n",
    "    product = 1  # Initialize the product to 1\n",
    "\n",
    "    for item in lst:\n",
    "        if isinstance(item, (int, float)):\n",
    "            product *= item\n",
    "        elif isinstance(item, list):\n",
    "            product *= product_of_numerical_values(item)\n",
    "        elif isinstance(item, dict):\n",
    "            product *= product_of_numerical_values(item.values())\n",
    "\n",
    "    return product\n",
    "\n",
    "# Example list\n",
    "list1 = [1, 2, 3, 4, [44, 55, 66, True], False, (34, 56, 78, 89, 34), {1, 2, 3, 3, 2, 1},\n",
    "         {1: 34, \"key2\": [55, 67, 78, 89], 4: (45, 22, 61, 34)}, [56, 'data science'], 'Machine Learning']\n",
    "\n",
    "result = product_of_numerical_values(list1)\n",
    "print(\"Product of numerical values in list1:\", result)\n"
   ]
  },
  {
   "cell_type": "markdown",
   "id": "eaf38fe8-f385-496b-a252-51c39d28efba",
   "metadata": {},
   "source": [
    "## Q2.\n",
    "### Write a python program for encrypting a message sent to you by your friend. The logic of encryption should be such that, for a the output should be z. For b, the output should be y. For c, the output should be x respectively. Also, the whitespace should be replaced with a dollar sign. Keep the punctuation marks unchanged.\n",
    "\n",
    "Input Sentence: I want to become a Data Scientist.\n",
    "\n",
    "Encrypt the above input sentence using the program you just created.\n",
    "\n",
    "Note: Convert the given input sentence into lowercase before encrypting. The final output should be\n",
    "lowercase."
   ]
  },
  {
   "cell_type": "code",
   "execution_count": 37,
   "id": "df34c526-d729-4b7d-91e3-0449cb308a85",
   "metadata": {},
   "outputs": [
    {
     "name": "stdout",
     "output_type": "stream",
     "text": [
      "Encrypted Sentence: i$wznt$to$yexome$z$dztz$sxientist.\n"
     ]
    }
   ],
   "source": [
    "def encrypt_message(input_message):\n",
    "    # Convert the input message to lowercase\n",
    "    input_message = input_message.lower()\n",
    "\n",
    "    encrypted_message = \"\"\n",
    "    \n",
    "    for char in input_message:\n",
    "        # Replace letters a to c with z to x\n",
    "        if char >= 'a' and char <= 'c':\n",
    "            encrypted_message += chr(ord('z') - (ord(char) - ord('a')))\n",
    "            \n",
    "        # Replace whitespace with a dollar sign\n",
    "        elif char == ' ':\n",
    "            encrypted_message += '$'\n",
    "        # Keep punctuation marks unchanged\n",
    "        else:\n",
    "            encrypted_message += char\n",
    "\n",
    "    return encrypted_message\n",
    "\n",
    "# Input sentence\n",
    "input_sentence = \"I want to become a Data Scientist.\"\n",
    "\n",
    "# Encrypt the input sentence\n",
    "encrypted_sentence = encrypt_message(input_sentence)\n",
    "print(\"Encrypted Sentence:\", encrypted_sentence)\n"
   ]
  },
  {
   "cell_type": "markdown",
   "id": "beb28245-d0d6-4e43-9f85-0426f53a03a4",
   "metadata": {},
   "source": [
    "## Completed 06Feb_Assignment\n",
    "## _________________________________________________________"
   ]
  }
 ],
 "metadata": {
  "kernelspec": {
   "display_name": "Python 3 (ipykernel)",
   "language": "python",
   "name": "python3"
  },
  "language_info": {
   "codemirror_mode": {
    "name": "ipython",
    "version": 3
   },
   "file_extension": ".py",
   "mimetype": "text/x-python",
   "name": "python",
   "nbconvert_exporter": "python",
   "pygments_lexer": "ipython3",
   "version": "3.10.8"
  }
 },
 "nbformat": 4,
 "nbformat_minor": 5
}
