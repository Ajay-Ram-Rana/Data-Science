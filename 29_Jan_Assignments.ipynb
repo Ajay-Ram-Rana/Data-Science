{
 "cells": [
  {
   "cell_type": "markdown",
   "metadata": {},
   "source": [
    "# Q1: Who Developed the Python Programming Language ? "
   ]
  },
  {
   "cell_type": "markdown",
   "metadata": {},
   "source": [
    "When he began implementing Python, Guido van Rossum was also reading the published scripts from “Monty \n",
    "Python's Flying Circus”, a BBC comedy series from the 1970s. Van Rossum thought he needed a name that was \n",
    "short, unique, and slightly mysterious, so he decided to call the language Python."
   ]
  },
  {
   "cell_type": "markdown",
   "metadata": {},
   "source": [
    "# Q2: Which type of programming does python support ?"
   ]
  },
  {
   "cell_type": "markdown",
   "metadata": {},
   "source": [
    "Python is an interpreted, interactive, object-oriented programming language. It incorporates modules, exceptions,\n",
    "dynamic typing, very high level dynamic data types, and classes. It supports multiple programming paradigms beyond\n",
    "object-oriented programming, such as procedural and functional programming."
   ]
  },
  {
   "cell_type": "markdown",
   "metadata": {},
   "source": [
    "# Q3: Is python case sensitive when dealing with identifier :"
   ]
  },
  {
   "cell_type": "markdown",
   "metadata": {},
   "source": [
    "Yes, Python is a case−sensitive programming language. This means that it considers uppercase and lowercase letters \n",
    "differently."
   ]
  },
  {
   "cell_type": "markdown",
   "metadata": {},
   "source": [
    "# Q4: What is the correct extension of the python file ?"
   ]
  },
  {
   "cell_type": "markdown",
   "metadata": {},
   "source": [
    "pyc: This is the file extension for compiled Python code files. When a . py file is executed, the Python \n",
    "    interpreter compiles the code to bytecode and saves it in a . pyc file to improve performance on subsequent \n",
    "    executions."
   ]
  },
  {
   "cell_type": "markdown",
   "metadata": {},
   "source": [
    "# Q5: Is Python code compiled or interpreted ?"
   ]
  },
  {
   "cell_type": "markdown",
   "metadata": {},
   "source": [
    "Python is an interpreted language, which means the source code of a Python program is converted into bytecode that \n",
    "is then executed by the Python virtual machine. Python is different from major compiled languages, such as C and \n",
    "C++, as Python code is not required to be built and linked like code for these languages."
   ]
  },
  {
   "cell_type": "markdown",
   "metadata": {},
   "source": [
    "# Q6: Name a few blocks of the code used to define in python language "
   ]
  },
  {
   "cell_type": "markdown",
   "metadata": {},
   "source": [
    "Structure of a program. A Python program is constructed from code blocks. A block is a piece of Python program text that is executed as a unit. The following are blocks: a module, a function body, and a class definition."
   ]
  },
  {
   "cell_type": "markdown",
   "metadata": {},
   "source": [
    "# Q7: State the character used to give single line comments in python ?"
   ]
  },
  {
   "cell_type": "markdown",
   "metadata": {},
   "source": [
    "Comments in Python are identified with a hash symbol, #, and extend to the end of the line."
   ]
  },
  {
   "cell_type": "markdown",
   "metadata": {},
   "source": [
    "# Q8: Mentions functions which can help us to find the version of python  that we are currently working on ?"
   ]
  },
  {
   "cell_type": "markdown",
   "metadata": {},
   "source": [
    " Which of the following functions can help us to find the version of python that we are currently working on? Explanation: The function sys. version can help us to find the version of python that we are currently working on."
   ]
  },
  {
   "cell_type": "markdown",
   "metadata": {},
   "source": [
    "# Q9: Python supports the creation of anonymous function at the runtime , using a construct called _________ "
   ]
  },
  {
   "cell_type": "markdown",
   "metadata": {},
   "source": [
    "Python supports the creation of anonymous functions (i.e. functions that are not bound to a name) at runtime, using a construct called lambda."
   ]
  },
  {
   "cell_type": "markdown",
   "metadata": {},
   "source": [
    "# Q10: What does pip stands for python ?"
   ]
  },
  {
   "cell_type": "markdown",
   "metadata": {},
   "source": [
    "Developed in 2008, pip (an acronym of “pip Install Packages”) is today the standard tool for installing Python packages and their dependencies in a secure manner. Most recent distributions of Python come with pip preinstalled. Python 2.7."
   ]
  },
  {
   "cell_type": "markdown",
   "metadata": {},
   "source": [
    "# Q11: Mention a few built-in function in python ?"
   ]
  },
  {
   "cell_type": "markdown",
   "metadata": {},
   "source": [
    "Python Built in Functions.\n",
    "\n",
    "Function\t                                   Description\n",
    "____________________________________________________________________________________________________\n",
    "int()                            \tReturns an integer number\n",
    "\n",
    "\n",
    "isinstance()                     \tReturns True if a specified object is an instance of a specified object\n",
    "\n",
    "\n",
    "issubclass()\t                    Returns True if a specified class is a subclass of a specified object\n",
    "\n",
    "\n",
    "iter()\t                            Returns an iterator object\n",
    "\n",
    "\n",
    "\n",
    "\n",
    "\n",
    "\n",
    "\n",
    "\n",
    "\n"
   ]
  },
  {
   "cell_type": "markdown",
   "metadata": {},
   "source": [
    "# Q12: what is the maximum possible  length of an identifier in the python ?"
   ]
  },
  {
   "cell_type": "markdown",
   "metadata": {},
   "source": [
    "An identifier can have a maximum length of 79 characters in Python. Python is one of the most popular programming languages. Guido van Rossum created it, and it was released in 1991."
   ]
  },
  {
   "cell_type": "markdown",
   "metadata": {},
   "source": [
    "# Q13: What are the benefits of using python ?"
   ]
  },
  {
   "cell_type": "markdown",
   "metadata": {},
   "source": [
    "Advantages of Python\n",
    "____________________________________________________________________________________________\n",
    "    Simple to Use and Understand. For newcomers, Python is simple to understand and use. ...\n",
    "    \n",
    "   Free and Open-Source. Video Player is loading. ...\n",
    "   \n",
    "   Productivity has Increased. ...\n",
    "   \n",
    "   Interpreted Language. ...\n",
    "   \n",
    "   Extensive library. ...\n",
    "   \n",
    "   Dynamically Typed. ...\n",
    "   \n",
    "   Portability. ...\n",
    "   \n",
    "   Supportive community.\n"
   ]
  },
  {
   "cell_type": "markdown",
   "metadata": {},
   "source": [
    "# Q14: What is the memory managed in the python?"
   ]
  },
  {
   "cell_type": "markdown",
   "metadata": {},
   "source": [
    "Memory management in Python involves a private heap containing all Python objects and data structures. The management of this private heap is ensured internally by the Python memory manager."
   ]
  },
  {
   "cell_type": "markdown",
   "metadata": {},
   "source": [
    "# Q15: How to install python on window and set path variables ?"
   ]
  },
  {
   "cell_type": "markdown",
   "metadata": {},
   "source": [
    "Install python from this link https://www.python.org/downloads/\n",
    "After this, install it on your PC. Look for the location where PYTHON has been installed on your PC \n",
    "\n",
    "\n",
    "Right click on My Computer ->Properties ->Advanced System setting ->Environment Variable ->New\n",
    "\n",
    "In Variable name write path and in Variable value copy path up to C://Python(i.e., path where Python is installed). Click Ok ->Ok."
   ]
  },
  {
   "cell_type": "markdown",
   "metadata": {},
   "source": [
    "# Q16: Is identation required in python ?"
   ]
  },
  {
   "cell_type": "markdown",
   "metadata": {},
   "source": [
    "Indentation is important to Python, because it's how you determine scope. Scope is how Python knows what code belongs to what part of the program."
   ]
  },
  {
   "cell_type": "code",
   "execution_count": null,
   "metadata": {},
   "outputs": [],
   "source": [
    "____________________________________________________________________\n",
    "                               \n",
    "                        Completed The Assignment\n",
    "____________________________________________________________________"
   ]
  }
 ],
 "metadata": {
  "kernelspec": {
   "display_name": "Python 3",
   "language": "python",
   "name": "python3"
  },
  "language_info": {
   "codemirror_mode": {
    "name": "ipython",
    "version": 3
   },
   "file_extension": ".py",
   "mimetype": "text/x-python",
   "name": "python",
   "nbconvert_exporter": "python",
   "pygments_lexer": "ipython3",
   "version": "3.6.9"
  }
 },
 "nbformat": 4,
 "nbformat_minor": 4
}
